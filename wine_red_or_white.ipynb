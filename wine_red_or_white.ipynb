{
  "nbformat": 4,
  "nbformat_minor": 0,
  "metadata": {
    "colab": {
      "name": "wine_red_or_white.ipynb",
      "provenance": [],
      "collapsed_sections": [],
      "authorship_tag": "ABX9TyP0juhdC4C7NNcw3qwIUp38",
      "include_colab_link": true
    },
    "kernelspec": {
      "name": "python3",
      "display_name": "Python 3"
    },
    "language_info": {
      "name": "python"
    }
  },
  "cells": [
    {
      "cell_type": "markdown",
      "metadata": {
        "id": "view-in-github",
        "colab_type": "text"
      },
      "source": [
        "<a href=\"https://colab.research.google.com/github/SAMAWELJABALLI/intro_to_keras/blob/master/wine_red_or_white.ipynb\" target=\"_parent\"><img src=\"https://colab.research.google.com/assets/colab-badge.svg\" alt=\"Open In Colab\"/></a>"
      ]
    },
    {
      "cell_type": "code",
      "metadata": {
        "id": "_UdIaWkjPp4p"
      },
      "source": [
        "import pandas as pd\n"
      ],
      "execution_count": 1,
      "outputs": []
    },
    {
      "cell_type": "code",
      "metadata": {
        "id": "Y_0YtuCZP3hO"
      },
      "source": [
        "df_red = pd.read_csv('/content/winequality-red.csv', sep=';')\n",
        "df_white = pd.read_csv('/content/winequality-white.csv', sep=';')"
      ],
      "execution_count": 2,
      "outputs": []
    },
    {
      "cell_type": "code",
      "metadata": {
        "colab": {
          "base_uri": "https://localhost:8080/",
          "height": 198
        },
        "id": "j7n2V8ysQALM",
        "outputId": "100e0659-3cb0-461c-d5ff-50bff0548cea"
      },
      "source": [
        "df_red.head()"
      ],
      "execution_count": 3,
      "outputs": [
        {
          "output_type": "execute_result",
          "data": {
            "text/html": [
              "<div>\n",
              "<style scoped>\n",
              "    .dataframe tbody tr th:only-of-type {\n",
              "        vertical-align: middle;\n",
              "    }\n",
              "\n",
              "    .dataframe tbody tr th {\n",
              "        vertical-align: top;\n",
              "    }\n",
              "\n",
              "    .dataframe thead th {\n",
              "        text-align: right;\n",
              "    }\n",
              "</style>\n",
              "<table border=\"1\" class=\"dataframe\">\n",
              "  <thead>\n",
              "    <tr style=\"text-align: right;\">\n",
              "      <th></th>\n",
              "      <th>fixed acidity</th>\n",
              "      <th>volatile acidity</th>\n",
              "      <th>citric acid</th>\n",
              "      <th>residual sugar</th>\n",
              "      <th>chlorides</th>\n",
              "      <th>free sulfur dioxide</th>\n",
              "      <th>total sulfur dioxide</th>\n",
              "      <th>density</th>\n",
              "      <th>pH</th>\n",
              "      <th>sulphates</th>\n",
              "      <th>alcohol</th>\n",
              "      <th>quality</th>\n",
              "    </tr>\n",
              "  </thead>\n",
              "  <tbody>\n",
              "    <tr>\n",
              "      <th>0</th>\n",
              "      <td>7.4</td>\n",
              "      <td>0.70</td>\n",
              "      <td>0.00</td>\n",
              "      <td>1.9</td>\n",
              "      <td>0.076</td>\n",
              "      <td>11.0</td>\n",
              "      <td>34.0</td>\n",
              "      <td>0.9978</td>\n",
              "      <td>3.51</td>\n",
              "      <td>0.56</td>\n",
              "      <td>9.4</td>\n",
              "      <td>5</td>\n",
              "    </tr>\n",
              "    <tr>\n",
              "      <th>1</th>\n",
              "      <td>7.8</td>\n",
              "      <td>0.88</td>\n",
              "      <td>0.00</td>\n",
              "      <td>2.6</td>\n",
              "      <td>0.098</td>\n",
              "      <td>25.0</td>\n",
              "      <td>67.0</td>\n",
              "      <td>0.9968</td>\n",
              "      <td>3.20</td>\n",
              "      <td>0.68</td>\n",
              "      <td>9.8</td>\n",
              "      <td>5</td>\n",
              "    </tr>\n",
              "    <tr>\n",
              "      <th>2</th>\n",
              "      <td>7.8</td>\n",
              "      <td>0.76</td>\n",
              "      <td>0.04</td>\n",
              "      <td>2.3</td>\n",
              "      <td>0.092</td>\n",
              "      <td>15.0</td>\n",
              "      <td>54.0</td>\n",
              "      <td>0.9970</td>\n",
              "      <td>3.26</td>\n",
              "      <td>0.65</td>\n",
              "      <td>9.8</td>\n",
              "      <td>5</td>\n",
              "    </tr>\n",
              "    <tr>\n",
              "      <th>3</th>\n",
              "      <td>11.2</td>\n",
              "      <td>0.28</td>\n",
              "      <td>0.56</td>\n",
              "      <td>1.9</td>\n",
              "      <td>0.075</td>\n",
              "      <td>17.0</td>\n",
              "      <td>60.0</td>\n",
              "      <td>0.9980</td>\n",
              "      <td>3.16</td>\n",
              "      <td>0.58</td>\n",
              "      <td>9.8</td>\n",
              "      <td>6</td>\n",
              "    </tr>\n",
              "    <tr>\n",
              "      <th>4</th>\n",
              "      <td>7.4</td>\n",
              "      <td>0.70</td>\n",
              "      <td>0.00</td>\n",
              "      <td>1.9</td>\n",
              "      <td>0.076</td>\n",
              "      <td>11.0</td>\n",
              "      <td>34.0</td>\n",
              "      <td>0.9978</td>\n",
              "      <td>3.51</td>\n",
              "      <td>0.56</td>\n",
              "      <td>9.4</td>\n",
              "      <td>5</td>\n",
              "    </tr>\n",
              "  </tbody>\n",
              "</table>\n",
              "</div>"
            ],
            "text/plain": [
              "   fixed acidity  volatile acidity  citric acid  ...  sulphates  alcohol  quality\n",
              "0            7.4              0.70         0.00  ...       0.56      9.4        5\n",
              "1            7.8              0.88         0.00  ...       0.68      9.8        5\n",
              "2            7.8              0.76         0.04  ...       0.65      9.8        5\n",
              "3           11.2              0.28         0.56  ...       0.58      9.8        6\n",
              "4            7.4              0.70         0.00  ...       0.56      9.4        5\n",
              "\n",
              "[5 rows x 12 columns]"
            ]
          },
          "metadata": {
            "tags": []
          },
          "execution_count": 3
        }
      ]
    },
    {
      "cell_type": "code",
      "metadata": {
        "colab": {
          "base_uri": "https://localhost:8080/",
          "height": 198
        },
        "id": "T7RUfFHGQCNL",
        "outputId": "d5978b3a-ef53-499b-d18b-e8ba14980531"
      },
      "source": [
        "df_white.head()\n"
      ],
      "execution_count": 4,
      "outputs": [
        {
          "output_type": "execute_result",
          "data": {
            "text/html": [
              "<div>\n",
              "<style scoped>\n",
              "    .dataframe tbody tr th:only-of-type {\n",
              "        vertical-align: middle;\n",
              "    }\n",
              "\n",
              "    .dataframe tbody tr th {\n",
              "        vertical-align: top;\n",
              "    }\n",
              "\n",
              "    .dataframe thead th {\n",
              "        text-align: right;\n",
              "    }\n",
              "</style>\n",
              "<table border=\"1\" class=\"dataframe\">\n",
              "  <thead>\n",
              "    <tr style=\"text-align: right;\">\n",
              "      <th></th>\n",
              "      <th>fixed acidity</th>\n",
              "      <th>volatile acidity</th>\n",
              "      <th>citric acid</th>\n",
              "      <th>residual sugar</th>\n",
              "      <th>chlorides</th>\n",
              "      <th>free sulfur dioxide</th>\n",
              "      <th>total sulfur dioxide</th>\n",
              "      <th>density</th>\n",
              "      <th>pH</th>\n",
              "      <th>sulphates</th>\n",
              "      <th>alcohol</th>\n",
              "      <th>quality</th>\n",
              "    </tr>\n",
              "  </thead>\n",
              "  <tbody>\n",
              "    <tr>\n",
              "      <th>0</th>\n",
              "      <td>7.0</td>\n",
              "      <td>0.27</td>\n",
              "      <td>0.36</td>\n",
              "      <td>20.7</td>\n",
              "      <td>0.045</td>\n",
              "      <td>45.0</td>\n",
              "      <td>170.0</td>\n",
              "      <td>1.0010</td>\n",
              "      <td>3.00</td>\n",
              "      <td>0.45</td>\n",
              "      <td>8.8</td>\n",
              "      <td>6</td>\n",
              "    </tr>\n",
              "    <tr>\n",
              "      <th>1</th>\n",
              "      <td>6.3</td>\n",
              "      <td>0.30</td>\n",
              "      <td>0.34</td>\n",
              "      <td>1.6</td>\n",
              "      <td>0.049</td>\n",
              "      <td>14.0</td>\n",
              "      <td>132.0</td>\n",
              "      <td>0.9940</td>\n",
              "      <td>3.30</td>\n",
              "      <td>0.49</td>\n",
              "      <td>9.5</td>\n",
              "      <td>6</td>\n",
              "    </tr>\n",
              "    <tr>\n",
              "      <th>2</th>\n",
              "      <td>8.1</td>\n",
              "      <td>0.28</td>\n",
              "      <td>0.40</td>\n",
              "      <td>6.9</td>\n",
              "      <td>0.050</td>\n",
              "      <td>30.0</td>\n",
              "      <td>97.0</td>\n",
              "      <td>0.9951</td>\n",
              "      <td>3.26</td>\n",
              "      <td>0.44</td>\n",
              "      <td>10.1</td>\n",
              "      <td>6</td>\n",
              "    </tr>\n",
              "    <tr>\n",
              "      <th>3</th>\n",
              "      <td>7.2</td>\n",
              "      <td>0.23</td>\n",
              "      <td>0.32</td>\n",
              "      <td>8.5</td>\n",
              "      <td>0.058</td>\n",
              "      <td>47.0</td>\n",
              "      <td>186.0</td>\n",
              "      <td>0.9956</td>\n",
              "      <td>3.19</td>\n",
              "      <td>0.40</td>\n",
              "      <td>9.9</td>\n",
              "      <td>6</td>\n",
              "    </tr>\n",
              "    <tr>\n",
              "      <th>4</th>\n",
              "      <td>7.2</td>\n",
              "      <td>0.23</td>\n",
              "      <td>0.32</td>\n",
              "      <td>8.5</td>\n",
              "      <td>0.058</td>\n",
              "      <td>47.0</td>\n",
              "      <td>186.0</td>\n",
              "      <td>0.9956</td>\n",
              "      <td>3.19</td>\n",
              "      <td>0.40</td>\n",
              "      <td>9.9</td>\n",
              "      <td>6</td>\n",
              "    </tr>\n",
              "  </tbody>\n",
              "</table>\n",
              "</div>"
            ],
            "text/plain": [
              "   fixed acidity  volatile acidity  citric acid  ...  sulphates  alcohol  quality\n",
              "0            7.0              0.27         0.36  ...       0.45      8.8        6\n",
              "1            6.3              0.30         0.34  ...       0.49      9.5        6\n",
              "2            8.1              0.28         0.40  ...       0.44     10.1        6\n",
              "3            7.2              0.23         0.32  ...       0.40      9.9        6\n",
              "4            7.2              0.23         0.32  ...       0.40      9.9        6\n",
              "\n",
              "[5 rows x 12 columns]"
            ]
          },
          "metadata": {
            "tags": []
          },
          "execution_count": 4
        }
      ]
    },
    {
      "cell_type": "code",
      "metadata": {
        "colab": {
          "base_uri": "https://localhost:8080/"
        },
        "id": "QBo1lC1bQEnT",
        "outputId": "c2eb8178-6156-43f4-cce8-1aa15c35bea3"
      },
      "source": [
        "df_red.shape"
      ],
      "execution_count": 5,
      "outputs": [
        {
          "output_type": "execute_result",
          "data": {
            "text/plain": [
              "(1599, 12)"
            ]
          },
          "metadata": {
            "tags": []
          },
          "execution_count": 5
        }
      ]
    },
    {
      "cell_type": "code",
      "metadata": {
        "colab": {
          "base_uri": "https://localhost:8080/"
        },
        "id": "gGyhN6VXQHru",
        "outputId": "07d722c8-aa3a-4bad-a883-f01b63be8937"
      },
      "source": [
        "df_white.shape"
      ],
      "execution_count": 6,
      "outputs": [
        {
          "output_type": "execute_result",
          "data": {
            "text/plain": [
              "(4898, 12)"
            ]
          },
          "metadata": {
            "tags": []
          },
          "execution_count": 6
        }
      ]
    },
    {
      "cell_type": "code",
      "metadata": {
        "colab": {
          "base_uri": "https://localhost:8080/"
        },
        "id": "PsoOA6CiQK2K",
        "outputId": "53b06ba2-56a9-450a-f6cc-67785772feca"
      },
      "source": [
        "df_red.info()"
      ],
      "execution_count": 7,
      "outputs": [
        {
          "output_type": "stream",
          "text": [
            "<class 'pandas.core.frame.DataFrame'>\n",
            "RangeIndex: 1599 entries, 0 to 1598\n",
            "Data columns (total 12 columns):\n",
            " #   Column                Non-Null Count  Dtype  \n",
            "---  ------                --------------  -----  \n",
            " 0   fixed acidity         1599 non-null   float64\n",
            " 1   volatile acidity      1599 non-null   float64\n",
            " 2   citric acid           1599 non-null   float64\n",
            " 3   residual sugar        1599 non-null   float64\n",
            " 4   chlorides             1599 non-null   float64\n",
            " 5   free sulfur dioxide   1599 non-null   float64\n",
            " 6   total sulfur dioxide  1599 non-null   float64\n",
            " 7   density               1599 non-null   float64\n",
            " 8   pH                    1599 non-null   float64\n",
            " 9   sulphates             1599 non-null   float64\n",
            " 10  alcohol               1599 non-null   float64\n",
            " 11  quality               1599 non-null   int64  \n",
            "dtypes: float64(11), int64(1)\n",
            "memory usage: 150.0 KB\n"
          ],
          "name": "stdout"
        }
      ]
    },
    {
      "cell_type": "code",
      "metadata": {
        "colab": {
          "base_uri": "https://localhost:8080/"
        },
        "id": "N6fYrxeiQTEk",
        "outputId": "56e2f224-431d-4dff-c2bd-6b4191f631ce"
      },
      "source": [
        "df_white.info()"
      ],
      "execution_count": 8,
      "outputs": [
        {
          "output_type": "stream",
          "text": [
            "<class 'pandas.core.frame.DataFrame'>\n",
            "RangeIndex: 4898 entries, 0 to 4897\n",
            "Data columns (total 12 columns):\n",
            " #   Column                Non-Null Count  Dtype  \n",
            "---  ------                --------------  -----  \n",
            " 0   fixed acidity         4898 non-null   float64\n",
            " 1   volatile acidity      4898 non-null   float64\n",
            " 2   citric acid           4898 non-null   float64\n",
            " 3   residual sugar        4898 non-null   float64\n",
            " 4   chlorides             4898 non-null   float64\n",
            " 5   free sulfur dioxide   4898 non-null   float64\n",
            " 6   total sulfur dioxide  4898 non-null   float64\n",
            " 7   density               4898 non-null   float64\n",
            " 8   pH                    4898 non-null   float64\n",
            " 9   sulphates             4898 non-null   float64\n",
            " 10  alcohol               4898 non-null   float64\n",
            " 11  quality               4898 non-null   int64  \n",
            "dtypes: float64(11), int64(1)\n",
            "memory usage: 459.3 KB\n"
          ],
          "name": "stdout"
        }
      ]
    },
    {
      "cell_type": "code",
      "metadata": {
        "colab": {
          "base_uri": "https://localhost:8080/"
        },
        "id": "6nzoq4ZmQX-6",
        "outputId": "c8354475-3bf7-4a5a-de94-69d0c7e16506"
      },
      "source": [
        "pd.isnull(df_red).sum()\n"
      ],
      "execution_count": 9,
      "outputs": [
        {
          "output_type": "execute_result",
          "data": {
            "text/plain": [
              "fixed acidity           0\n",
              "volatile acidity        0\n",
              "citric acid             0\n",
              "residual sugar          0\n",
              "chlorides               0\n",
              "free sulfur dioxide     0\n",
              "total sulfur dioxide    0\n",
              "density                 0\n",
              "pH                      0\n",
              "sulphates               0\n",
              "alcohol                 0\n",
              "quality                 0\n",
              "dtype: int64"
            ]
          },
          "metadata": {
            "tags": []
          },
          "execution_count": 9
        }
      ]
    },
    {
      "cell_type": "code",
      "metadata": {
        "colab": {
          "base_uri": "https://localhost:8080/"
        },
        "id": "hxD9C0XMQfJY",
        "outputId": "881bd922-8add-402f-ad21-29dd4a0224e1"
      },
      "source": [
        "pd.isnull(df_white).sum()\n"
      ],
      "execution_count": 10,
      "outputs": [
        {
          "output_type": "execute_result",
          "data": {
            "text/plain": [
              "fixed acidity           0\n",
              "volatile acidity        0\n",
              "citric acid             0\n",
              "residual sugar          0\n",
              "chlorides               0\n",
              "free sulfur dioxide     0\n",
              "total sulfur dioxide    0\n",
              "density                 0\n",
              "pH                      0\n",
              "sulphates               0\n",
              "alcohol                 0\n",
              "quality                 0\n",
              "dtype: int64"
            ]
          },
          "metadata": {
            "tags": []
          },
          "execution_count": 10
        }
      ]
    },
    {
      "cell_type": "code",
      "metadata": {
        "id": "P_dbn-hAQhYo"
      },
      "source": [
        "# 1 = red\n",
        "# 0 - white\n",
        "df_red['type'] = 1\n",
        "df_white['type'] = 0"
      ],
      "execution_count": 12,
      "outputs": []
    },
    {
      "cell_type": "code",
      "metadata": {
        "colab": {
          "base_uri": "https://localhost:8080/"
        },
        "id": "kJjpsvy7QwjI",
        "outputId": "8f136715-00a2-4652-bda9-d2ad850dea82"
      },
      "source": [
        "df_red.columns\n"
      ],
      "execution_count": 15,
      "outputs": [
        {
          "output_type": "execute_result",
          "data": {
            "text/plain": [
              "Index(['fixed acidity', 'volatile acidity', 'citric acid', 'residual sugar',\n",
              "       'chlorides', 'free sulfur dioxide', 'total sulfur dioxide', 'density',\n",
              "       'pH', 'sulphates', 'alcohol', 'quality', 'type'],\n",
              "      dtype='object')"
            ]
          },
          "metadata": {
            "tags": []
          },
          "execution_count": 15
        }
      ]
    },
    {
      "cell_type": "code",
      "metadata": {
        "colab": {
          "base_uri": "https://localhost:8080/"
        },
        "id": "-aJTykTKQzly",
        "outputId": "db67fbf1-6bdb-47db-a18c-bb2eb32e0d5f"
      },
      "source": [
        "df_white.columns\n"
      ],
      "execution_count": 16,
      "outputs": [
        {
          "output_type": "execute_result",
          "data": {
            "text/plain": [
              "Index(['fixed acidity', 'volatile acidity', 'citric acid', 'residual sugar',\n",
              "       'chlorides', 'free sulfur dioxide', 'total sulfur dioxide', 'density',\n",
              "       'pH', 'sulphates', 'alcohol', 'quality', 'type'],\n",
              "      dtype='object')"
            ]
          },
          "metadata": {
            "tags": []
          },
          "execution_count": 16
        }
      ]
    },
    {
      "cell_type": "code",
      "metadata": {
        "id": "vBFb_QjIQ5o7"
      },
      "source": [
        "df = pd.concat([df_red, df_white], ignore_index=True)"
      ],
      "execution_count": 17,
      "outputs": []
    },
    {
      "cell_type": "code",
      "metadata": {
        "colab": {
          "base_uri": "https://localhost:8080/",
          "height": 198
        },
        "id": "Gi7QE8nxRAXA",
        "outputId": "2bd680dd-477d-4faf-e9f8-bc923786798c"
      },
      "source": [
        "df.head()"
      ],
      "execution_count": 19,
      "outputs": [
        {
          "output_type": "execute_result",
          "data": {
            "text/html": [
              "<div>\n",
              "<style scoped>\n",
              "    .dataframe tbody tr th:only-of-type {\n",
              "        vertical-align: middle;\n",
              "    }\n",
              "\n",
              "    .dataframe tbody tr th {\n",
              "        vertical-align: top;\n",
              "    }\n",
              "\n",
              "    .dataframe thead th {\n",
              "        text-align: right;\n",
              "    }\n",
              "</style>\n",
              "<table border=\"1\" class=\"dataframe\">\n",
              "  <thead>\n",
              "    <tr style=\"text-align: right;\">\n",
              "      <th></th>\n",
              "      <th>fixed acidity</th>\n",
              "      <th>volatile acidity</th>\n",
              "      <th>citric acid</th>\n",
              "      <th>residual sugar</th>\n",
              "      <th>chlorides</th>\n",
              "      <th>free sulfur dioxide</th>\n",
              "      <th>total sulfur dioxide</th>\n",
              "      <th>density</th>\n",
              "      <th>pH</th>\n",
              "      <th>sulphates</th>\n",
              "      <th>alcohol</th>\n",
              "      <th>quality</th>\n",
              "      <th>type</th>\n",
              "    </tr>\n",
              "  </thead>\n",
              "  <tbody>\n",
              "    <tr>\n",
              "      <th>0</th>\n",
              "      <td>7.4</td>\n",
              "      <td>0.70</td>\n",
              "      <td>0.00</td>\n",
              "      <td>1.9</td>\n",
              "      <td>0.076</td>\n",
              "      <td>11.0</td>\n",
              "      <td>34.0</td>\n",
              "      <td>0.9978</td>\n",
              "      <td>3.51</td>\n",
              "      <td>0.56</td>\n",
              "      <td>9.4</td>\n",
              "      <td>5</td>\n",
              "      <td>1</td>\n",
              "    </tr>\n",
              "    <tr>\n",
              "      <th>1</th>\n",
              "      <td>7.8</td>\n",
              "      <td>0.88</td>\n",
              "      <td>0.00</td>\n",
              "      <td>2.6</td>\n",
              "      <td>0.098</td>\n",
              "      <td>25.0</td>\n",
              "      <td>67.0</td>\n",
              "      <td>0.9968</td>\n",
              "      <td>3.20</td>\n",
              "      <td>0.68</td>\n",
              "      <td>9.8</td>\n",
              "      <td>5</td>\n",
              "      <td>1</td>\n",
              "    </tr>\n",
              "    <tr>\n",
              "      <th>2</th>\n",
              "      <td>7.8</td>\n",
              "      <td>0.76</td>\n",
              "      <td>0.04</td>\n",
              "      <td>2.3</td>\n",
              "      <td>0.092</td>\n",
              "      <td>15.0</td>\n",
              "      <td>54.0</td>\n",
              "      <td>0.9970</td>\n",
              "      <td>3.26</td>\n",
              "      <td>0.65</td>\n",
              "      <td>9.8</td>\n",
              "      <td>5</td>\n",
              "      <td>1</td>\n",
              "    </tr>\n",
              "    <tr>\n",
              "      <th>3</th>\n",
              "      <td>11.2</td>\n",
              "      <td>0.28</td>\n",
              "      <td>0.56</td>\n",
              "      <td>1.9</td>\n",
              "      <td>0.075</td>\n",
              "      <td>17.0</td>\n",
              "      <td>60.0</td>\n",
              "      <td>0.9980</td>\n",
              "      <td>3.16</td>\n",
              "      <td>0.58</td>\n",
              "      <td>9.8</td>\n",
              "      <td>6</td>\n",
              "      <td>1</td>\n",
              "    </tr>\n",
              "    <tr>\n",
              "      <th>4</th>\n",
              "      <td>7.4</td>\n",
              "      <td>0.70</td>\n",
              "      <td>0.00</td>\n",
              "      <td>1.9</td>\n",
              "      <td>0.076</td>\n",
              "      <td>11.0</td>\n",
              "      <td>34.0</td>\n",
              "      <td>0.9978</td>\n",
              "      <td>3.51</td>\n",
              "      <td>0.56</td>\n",
              "      <td>9.4</td>\n",
              "      <td>5</td>\n",
              "      <td>1</td>\n",
              "    </tr>\n",
              "  </tbody>\n",
              "</table>\n",
              "</div>"
            ],
            "text/plain": [
              "   fixed acidity  volatile acidity  citric acid  ...  alcohol  quality  type\n",
              "0            7.4              0.70         0.00  ...      9.4        5     1\n",
              "1            7.8              0.88         0.00  ...      9.8        5     1\n",
              "2            7.8              0.76         0.04  ...      9.8        5     1\n",
              "3           11.2              0.28         0.56  ...      9.8        6     1\n",
              "4            7.4              0.70         0.00  ...      9.4        5     1\n",
              "\n",
              "[5 rows x 13 columns]"
            ]
          },
          "metadata": {
            "tags": []
          },
          "execution_count": 19
        }
      ]
    },
    {
      "cell_type": "code",
      "metadata": {
        "colab": {
          "base_uri": "https://localhost:8080/",
          "height": 198
        },
        "id": "mxV5yNj3RCz7",
        "outputId": "7eb48c71-9fc2-42d1-bdcb-14d352f60ed3"
      },
      "source": [
        "df.tail()"
      ],
      "execution_count": 20,
      "outputs": [
        {
          "output_type": "execute_result",
          "data": {
            "text/html": [
              "<div>\n",
              "<style scoped>\n",
              "    .dataframe tbody tr th:only-of-type {\n",
              "        vertical-align: middle;\n",
              "    }\n",
              "\n",
              "    .dataframe tbody tr th {\n",
              "        vertical-align: top;\n",
              "    }\n",
              "\n",
              "    .dataframe thead th {\n",
              "        text-align: right;\n",
              "    }\n",
              "</style>\n",
              "<table border=\"1\" class=\"dataframe\">\n",
              "  <thead>\n",
              "    <tr style=\"text-align: right;\">\n",
              "      <th></th>\n",
              "      <th>fixed acidity</th>\n",
              "      <th>volatile acidity</th>\n",
              "      <th>citric acid</th>\n",
              "      <th>residual sugar</th>\n",
              "      <th>chlorides</th>\n",
              "      <th>free sulfur dioxide</th>\n",
              "      <th>total sulfur dioxide</th>\n",
              "      <th>density</th>\n",
              "      <th>pH</th>\n",
              "      <th>sulphates</th>\n",
              "      <th>alcohol</th>\n",
              "      <th>quality</th>\n",
              "      <th>type</th>\n",
              "    </tr>\n",
              "  </thead>\n",
              "  <tbody>\n",
              "    <tr>\n",
              "      <th>6492</th>\n",
              "      <td>6.2</td>\n",
              "      <td>0.21</td>\n",
              "      <td>0.29</td>\n",
              "      <td>1.6</td>\n",
              "      <td>0.039</td>\n",
              "      <td>24.0</td>\n",
              "      <td>92.0</td>\n",
              "      <td>0.99114</td>\n",
              "      <td>3.27</td>\n",
              "      <td>0.50</td>\n",
              "      <td>11.2</td>\n",
              "      <td>6</td>\n",
              "      <td>0</td>\n",
              "    </tr>\n",
              "    <tr>\n",
              "      <th>6493</th>\n",
              "      <td>6.6</td>\n",
              "      <td>0.32</td>\n",
              "      <td>0.36</td>\n",
              "      <td>8.0</td>\n",
              "      <td>0.047</td>\n",
              "      <td>57.0</td>\n",
              "      <td>168.0</td>\n",
              "      <td>0.99490</td>\n",
              "      <td>3.15</td>\n",
              "      <td>0.46</td>\n",
              "      <td>9.6</td>\n",
              "      <td>5</td>\n",
              "      <td>0</td>\n",
              "    </tr>\n",
              "    <tr>\n",
              "      <th>6494</th>\n",
              "      <td>6.5</td>\n",
              "      <td>0.24</td>\n",
              "      <td>0.19</td>\n",
              "      <td>1.2</td>\n",
              "      <td>0.041</td>\n",
              "      <td>30.0</td>\n",
              "      <td>111.0</td>\n",
              "      <td>0.99254</td>\n",
              "      <td>2.99</td>\n",
              "      <td>0.46</td>\n",
              "      <td>9.4</td>\n",
              "      <td>6</td>\n",
              "      <td>0</td>\n",
              "    </tr>\n",
              "    <tr>\n",
              "      <th>6495</th>\n",
              "      <td>5.5</td>\n",
              "      <td>0.29</td>\n",
              "      <td>0.30</td>\n",
              "      <td>1.1</td>\n",
              "      <td>0.022</td>\n",
              "      <td>20.0</td>\n",
              "      <td>110.0</td>\n",
              "      <td>0.98869</td>\n",
              "      <td>3.34</td>\n",
              "      <td>0.38</td>\n",
              "      <td>12.8</td>\n",
              "      <td>7</td>\n",
              "      <td>0</td>\n",
              "    </tr>\n",
              "    <tr>\n",
              "      <th>6496</th>\n",
              "      <td>6.0</td>\n",
              "      <td>0.21</td>\n",
              "      <td>0.38</td>\n",
              "      <td>0.8</td>\n",
              "      <td>0.020</td>\n",
              "      <td>22.0</td>\n",
              "      <td>98.0</td>\n",
              "      <td>0.98941</td>\n",
              "      <td>3.26</td>\n",
              "      <td>0.32</td>\n",
              "      <td>11.8</td>\n",
              "      <td>6</td>\n",
              "      <td>0</td>\n",
              "    </tr>\n",
              "  </tbody>\n",
              "</table>\n",
              "</div>"
            ],
            "text/plain": [
              "      fixed acidity  volatile acidity  citric acid  ...  alcohol  quality  type\n",
              "6492            6.2              0.21         0.29  ...     11.2        6     0\n",
              "6493            6.6              0.32         0.36  ...      9.6        5     0\n",
              "6494            6.5              0.24         0.19  ...      9.4        6     0\n",
              "6495            5.5              0.29         0.30  ...     12.8        7     0\n",
              "6496            6.0              0.21         0.38  ...     11.8        6     0\n",
              "\n",
              "[5 rows x 13 columns]"
            ]
          },
          "metadata": {
            "tags": []
          },
          "execution_count": 20
        }
      ]
    },
    {
      "cell_type": "code",
      "metadata": {
        "colab": {
          "base_uri": "https://localhost:8080/"
        },
        "id": "3wZtcbEJRHTX",
        "outputId": "37da035d-645a-4f67-a54a-3552565b8261"
      },
      "source": [
        "df.shape"
      ],
      "execution_count": 21,
      "outputs": [
        {
          "output_type": "execute_result",
          "data": {
            "text/plain": [
              "(6497, 13)"
            ]
          },
          "metadata": {
            "tags": []
          },
          "execution_count": 21
        }
      ]
    },
    {
      "cell_type": "code",
      "metadata": {
        "id": "CvV5-qbqRMqW"
      },
      "source": [
        "X = df.drop(columns=['type'])\n",
        "y = df['type']"
      ],
      "execution_count": 22,
      "outputs": []
    },
    {
      "cell_type": "code",
      "metadata": {
        "colab": {
          "base_uri": "https://localhost:8080/"
        },
        "id": "HA4ee4kpRXDk",
        "outputId": "c2e981e4-ac83-4f33-b6ca-a8c1607c6778"
      },
      "source": [
        "X.shape"
      ],
      "execution_count": 23,
      "outputs": [
        {
          "output_type": "execute_result",
          "data": {
            "text/plain": [
              "(6497, 12)"
            ]
          },
          "metadata": {
            "tags": []
          },
          "execution_count": 23
        }
      ]
    },
    {
      "cell_type": "code",
      "metadata": {
        "colab": {
          "base_uri": "https://localhost:8080/"
        },
        "id": "El6qC3TkRYc9",
        "outputId": "bb4d1cb1-7fe8-483d-e019-e21f9f80ad82"
      },
      "source": [
        "y.shape"
      ],
      "execution_count": 24,
      "outputs": [
        {
          "output_type": "execute_result",
          "data": {
            "text/plain": [
              "(6497,)"
            ]
          },
          "metadata": {
            "tags": []
          },
          "execution_count": 24
        }
      ]
    },
    {
      "cell_type": "code",
      "metadata": {
        "id": "MfVODpDzRZZU"
      },
      "source": [
        "#Split Data into training and test¶\n",
        "from sklearn.model_selection import train_test_split\n",
        "\n",
        "# Note the use of stratify=y\n",
        "# where 'y' is the NOT for yes, but the actual variable 'y' that contains the target\n",
        "# stratify=y will make sure the training and test data has the same percentage of each target so we \n",
        "# do not get a skewed dataset\n",
        "X_train, X_test, y_train, y_test = train_test_split(X, y, test_size=0.33, random_state=42, stratify=y)"
      ],
      "execution_count": 25,
      "outputs": []
    },
    {
      "cell_type": "code",
      "metadata": {
        "colab": {
          "base_uri": "https://localhost:8080/"
        },
        "id": "qBs0nVGXRrXT",
        "outputId": "4870f369-06b1-4a5b-ba3d-ff6327ba5fd5"
      },
      "source": [
        "y.sum()/y.count()\n"
      ],
      "execution_count": 26,
      "outputs": [
        {
          "output_type": "execute_result",
          "data": {
            "text/plain": [
              "0.2461135908881022"
            ]
          },
          "metadata": {
            "tags": []
          },
          "execution_count": 26
        }
      ]
    },
    {
      "cell_type": "code",
      "metadata": {
        "colab": {
          "base_uri": "https://localhost:8080/"
        },
        "id": "9iP94kuSRuOC",
        "outputId": "f09c4e2f-c176-413d-9899-0ab1c8706c9b"
      },
      "source": [
        "y_train.sum()/y_train.count()"
      ],
      "execution_count": 27,
      "outputs": [
        {
          "output_type": "execute_result",
          "data": {
            "text/plain": [
              "0.24609375"
            ]
          },
          "metadata": {
            "tags": []
          },
          "execution_count": 27
        }
      ]
    },
    {
      "cell_type": "code",
      "metadata": {
        "colab": {
          "base_uri": "https://localhost:8080/"
        },
        "id": "pWu6WMfgRwco",
        "outputId": "b1810c24-14af-4cb5-9d6a-57ba8cab9411"
      },
      "source": [
        "y_test.sum()/y_test.count()"
      ],
      "execution_count": 28,
      "outputs": [
        {
          "output_type": "execute_result",
          "data": {
            "text/plain": [
              "0.24615384615384617"
            ]
          },
          "metadata": {
            "tags": []
          },
          "execution_count": 28
        }
      ]
    },
    {
      "cell_type": "code",
      "metadata": {
        "colab": {
          "base_uri": "https://localhost:8080/"
        },
        "id": "HEMpmaPaRzZ6",
        "outputId": "817448fa-c922-4dcf-b007-338f6d55fb46"
      },
      "source": [
        "X_train.shape"
      ],
      "execution_count": 29,
      "outputs": [
        {
          "output_type": "execute_result",
          "data": {
            "text/plain": [
              "(4352, 12)"
            ]
          },
          "metadata": {
            "tags": []
          },
          "execution_count": 29
        }
      ]
    },
    {
      "cell_type": "code",
      "metadata": {
        "colab": {
          "base_uri": "https://localhost:8080/"
        },
        "id": "Kai9uj-2R8Xt",
        "outputId": "b3a75858-cd13-4c71-8870-afc1011adad4"
      },
      "source": [
        "X_test.shape"
      ],
      "execution_count": 30,
      "outputs": [
        {
          "output_type": "execute_result",
          "data": {
            "text/plain": [
              "(2145, 12)"
            ]
          },
          "metadata": {
            "tags": []
          },
          "execution_count": 30
        }
      ]
    },
    {
      "cell_type": "code",
      "metadata": {
        "colab": {
          "base_uri": "https://localhost:8080/"
        },
        "id": "OIUL9eUMR-tN",
        "outputId": "81378372-c633-4892-9a71-7355ec928e22"
      },
      "source": [
        "y_test.sum()"
      ],
      "execution_count": 31,
      "outputs": [
        {
          "output_type": "execute_result",
          "data": {
            "text/plain": [
              "528"
            ]
          },
          "metadata": {
            "tags": []
          },
          "execution_count": 31
        }
      ]
    },
    {
      "cell_type": "code",
      "metadata": {
        "colab": {
          "base_uri": "https://localhost:8080/"
        },
        "id": "cqUk0HMCSBvC",
        "outputId": "7a12c22c-692b-4394-9543-81c3601c30c2"
      },
      "source": [
        "y_train.sum(\n",
        ")"
      ],
      "execution_count": 32,
      "outputs": [
        {
          "output_type": "execute_result",
          "data": {
            "text/plain": [
              "1071"
            ]
          },
          "metadata": {
            "tags": []
          },
          "execution_count": 32
        }
      ]
    },
    {
      "cell_type": "code",
      "metadata": {
        "id": "612PDdjYShPg"
      },
      "source": [
        "#Standardize Dataset\n",
        "from sklearn.preprocessing import StandardScaler\n",
        "scaler = StandardScaler()\n",
        "scaler.fit(X_train)\n",
        "X_train_scaled = scaler.transform(X_train)\n",
        "X_test_scaled = scaler.transform(X_test)"
      ],
      "execution_count": 33,
      "outputs": []
    },
    {
      "cell_type": "code",
      "metadata": {
        "colab": {
          "base_uri": "https://localhost:8080/",
          "height": 198
        },
        "id": "tvf-hbXATkkm",
        "outputId": "9089d93c-9742-4fa4-851c-d1cd9b3df36c"
      },
      "source": [
        "X_train.head()\n"
      ],
      "execution_count": 34,
      "outputs": [
        {
          "output_type": "execute_result",
          "data": {
            "text/html": [
              "<div>\n",
              "<style scoped>\n",
              "    .dataframe tbody tr th:only-of-type {\n",
              "        vertical-align: middle;\n",
              "    }\n",
              "\n",
              "    .dataframe tbody tr th {\n",
              "        vertical-align: top;\n",
              "    }\n",
              "\n",
              "    .dataframe thead th {\n",
              "        text-align: right;\n",
              "    }\n",
              "</style>\n",
              "<table border=\"1\" class=\"dataframe\">\n",
              "  <thead>\n",
              "    <tr style=\"text-align: right;\">\n",
              "      <th></th>\n",
              "      <th>fixed acidity</th>\n",
              "      <th>volatile acidity</th>\n",
              "      <th>citric acid</th>\n",
              "      <th>residual sugar</th>\n",
              "      <th>chlorides</th>\n",
              "      <th>free sulfur dioxide</th>\n",
              "      <th>total sulfur dioxide</th>\n",
              "      <th>density</th>\n",
              "      <th>pH</th>\n",
              "      <th>sulphates</th>\n",
              "      <th>alcohol</th>\n",
              "      <th>quality</th>\n",
              "    </tr>\n",
              "  </thead>\n",
              "  <tbody>\n",
              "    <tr>\n",
              "      <th>5025</th>\n",
              "      <td>7.1</td>\n",
              "      <td>0.170</td>\n",
              "      <td>0.40</td>\n",
              "      <td>14.55</td>\n",
              "      <td>0.047</td>\n",
              "      <td>47.0</td>\n",
              "      <td>156.0</td>\n",
              "      <td>0.99945</td>\n",
              "      <td>3.34</td>\n",
              "      <td>0.78</td>\n",
              "      <td>9.10</td>\n",
              "      <td>6</td>\n",
              "    </tr>\n",
              "    <tr>\n",
              "      <th>2238</th>\n",
              "      <td>5.8</td>\n",
              "      <td>0.335</td>\n",
              "      <td>0.14</td>\n",
              "      <td>5.80</td>\n",
              "      <td>0.046</td>\n",
              "      <td>49.0</td>\n",
              "      <td>197.0</td>\n",
              "      <td>0.99370</td>\n",
              "      <td>3.30</td>\n",
              "      <td>0.71</td>\n",
              "      <td>10.30</td>\n",
              "      <td>5</td>\n",
              "    </tr>\n",
              "    <tr>\n",
              "      <th>4834</th>\n",
              "      <td>5.7</td>\n",
              "      <td>0.150</td>\n",
              "      <td>0.28</td>\n",
              "      <td>3.70</td>\n",
              "      <td>0.045</td>\n",
              "      <td>57.0</td>\n",
              "      <td>151.0</td>\n",
              "      <td>0.99130</td>\n",
              "      <td>3.22</td>\n",
              "      <td>0.27</td>\n",
              "      <td>11.20</td>\n",
              "      <td>6</td>\n",
              "    </tr>\n",
              "    <tr>\n",
              "      <th>6143</th>\n",
              "      <td>5.8</td>\n",
              "      <td>0.280</td>\n",
              "      <td>0.30</td>\n",
              "      <td>3.90</td>\n",
              "      <td>0.026</td>\n",
              "      <td>36.0</td>\n",
              "      <td>105.0</td>\n",
              "      <td>0.98963</td>\n",
              "      <td>3.26</td>\n",
              "      <td>0.58</td>\n",
              "      <td>12.75</td>\n",
              "      <td>6</td>\n",
              "    </tr>\n",
              "    <tr>\n",
              "      <th>2892</th>\n",
              "      <td>6.9</td>\n",
              "      <td>0.390</td>\n",
              "      <td>0.22</td>\n",
              "      <td>4.30</td>\n",
              "      <td>0.030</td>\n",
              "      <td>10.0</td>\n",
              "      <td>102.0</td>\n",
              "      <td>0.99300</td>\n",
              "      <td>3.00</td>\n",
              "      <td>0.87</td>\n",
              "      <td>11.60</td>\n",
              "      <td>4</td>\n",
              "    </tr>\n",
              "  </tbody>\n",
              "</table>\n",
              "</div>"
            ],
            "text/plain": [
              "      fixed acidity  volatile acidity  citric acid  ...  sulphates  alcohol  quality\n",
              "5025            7.1             0.170         0.40  ...       0.78     9.10        6\n",
              "2238            5.8             0.335         0.14  ...       0.71    10.30        5\n",
              "4834            5.7             0.150         0.28  ...       0.27    11.20        6\n",
              "6143            5.8             0.280         0.30  ...       0.58    12.75        6\n",
              "2892            6.9             0.390         0.22  ...       0.87    11.60        4\n",
              "\n",
              "[5 rows x 12 columns]"
            ]
          },
          "metadata": {
            "tags": []
          },
          "execution_count": 34
        }
      ]
    },
    {
      "cell_type": "code",
      "metadata": {
        "colab": {
          "base_uri": "https://localhost:8080/",
          "height": 198
        },
        "id": "awWSVKGpToy_",
        "outputId": "525536be-ef93-4ac4-ab4c-a2ec4338e0f7"
      },
      "source": [
        "df_train_scaled = pd.DataFrame(X_train_scaled)\n",
        "df_train_scaled.head()\n"
      ],
      "execution_count": 37,
      "outputs": [
        {
          "output_type": "execute_result",
          "data": {
            "text/html": [
              "<div>\n",
              "<style scoped>\n",
              "    .dataframe tbody tr th:only-of-type {\n",
              "        vertical-align: middle;\n",
              "    }\n",
              "\n",
              "    .dataframe tbody tr th {\n",
              "        vertical-align: top;\n",
              "    }\n",
              "\n",
              "    .dataframe thead th {\n",
              "        text-align: right;\n",
              "    }\n",
              "</style>\n",
              "<table border=\"1\" class=\"dataframe\">\n",
              "  <thead>\n",
              "    <tr style=\"text-align: right;\">\n",
              "      <th></th>\n",
              "      <th>0</th>\n",
              "      <th>1</th>\n",
              "      <th>2</th>\n",
              "      <th>3</th>\n",
              "      <th>4</th>\n",
              "      <th>5</th>\n",
              "      <th>6</th>\n",
              "      <th>7</th>\n",
              "      <th>8</th>\n",
              "      <th>9</th>\n",
              "      <th>10</th>\n",
              "      <th>11</th>\n",
              "    </tr>\n",
              "  </thead>\n",
              "  <tbody>\n",
              "    <tr>\n",
              "      <th>0</th>\n",
              "      <td>-0.082151</td>\n",
              "      <td>-1.016338</td>\n",
              "      <td>0.557545</td>\n",
              "      <td>1.904707</td>\n",
              "      <td>-0.260542</td>\n",
              "      <td>0.921400</td>\n",
              "      <td>0.710483</td>\n",
              "      <td>1.579967</td>\n",
              "      <td>0.747932</td>\n",
              "      <td>1.689005</td>\n",
              "      <td>-1.171387</td>\n",
              "      <td>0.190425</td>\n",
              "    </tr>\n",
              "    <tr>\n",
              "      <th>1</th>\n",
              "      <td>-1.076653</td>\n",
              "      <td>-0.025627</td>\n",
              "      <td>-1.235015</td>\n",
              "      <td>0.071249</td>\n",
              "      <td>-0.288732</td>\n",
              "      <td>1.033652</td>\n",
              "      <td>1.434790</td>\n",
              "      <td>-0.328298</td>\n",
              "      <td>0.500469</td>\n",
              "      <td>1.213826</td>\n",
              "      <td>-0.166457</td>\n",
              "      <td>-0.954228</td>\n",
              "    </tr>\n",
              "    <tr>\n",
              "      <th>2</th>\n",
              "      <td>-1.153153</td>\n",
              "      <td>-1.136424</td>\n",
              "      <td>-0.269790</td>\n",
              "      <td>-0.368781</td>\n",
              "      <td>-0.316923</td>\n",
              "      <td>1.482658</td>\n",
              "      <td>0.622153</td>\n",
              "      <td>-1.124792</td>\n",
              "      <td>0.005544</td>\n",
              "      <td>-1.773017</td>\n",
              "      <td>0.587241</td>\n",
              "      <td>0.190425</td>\n",
              "    </tr>\n",
              "    <tr>\n",
              "      <th>3</th>\n",
              "      <td>-1.076653</td>\n",
              "      <td>-0.355864</td>\n",
              "      <td>-0.131901</td>\n",
              "      <td>-0.326874</td>\n",
              "      <td>-0.852541</td>\n",
              "      <td>0.304017</td>\n",
              "      <td>-0.190484</td>\n",
              "      <td>-1.679019</td>\n",
              "      <td>0.253007</td>\n",
              "      <td>0.331350</td>\n",
              "      <td>1.885275</td>\n",
              "      <td>0.190425</td>\n",
              "    </tr>\n",
              "    <tr>\n",
              "      <th>4</th>\n",
              "      <td>-0.235152</td>\n",
              "      <td>0.304610</td>\n",
              "      <td>-0.683458</td>\n",
              "      <td>-0.243058</td>\n",
              "      <td>-0.739780</td>\n",
              "      <td>-1.155253</td>\n",
              "      <td>-0.243482</td>\n",
              "      <td>-0.560609</td>\n",
              "      <td>-1.355500</td>\n",
              "      <td>2.299950</td>\n",
              "      <td>0.922217</td>\n",
              "      <td>-2.098881</td>\n",
              "    </tr>\n",
              "  </tbody>\n",
              "</table>\n",
              "</div>"
            ],
            "text/plain": [
              "         0         1         2   ...        9         10        11\n",
              "0 -0.082151 -1.016338  0.557545  ...  1.689005 -1.171387  0.190425\n",
              "1 -1.076653 -0.025627 -1.235015  ...  1.213826 -0.166457 -0.954228\n",
              "2 -1.153153 -1.136424 -0.269790  ... -1.773017  0.587241  0.190425\n",
              "3 -1.076653 -0.355864 -0.131901  ...  0.331350  1.885275  0.190425\n",
              "4 -0.235152  0.304610 -0.683458  ...  2.299950  0.922217 -2.098881\n",
              "\n",
              "[5 rows x 12 columns]"
            ]
          },
          "metadata": {
            "tags": []
          },
          "execution_count": 37
        }
      ]
    },
    {
      "cell_type": "code",
      "metadata": {
        "colab": {
          "base_uri": "https://localhost:8080/",
          "height": 135
        },
        "id": "5zlZygVTTr85",
        "outputId": "d4b8fc22-ba65-4cab-bb0e-7112395600ef"
      },
      "source": [
        ""
      ],
      "execution_count": 38,
      "outputs": [
        {
          "output_type": "error",
          "ename": "SyntaxError",
          "evalue": "ignored",
          "traceback": [
            "\u001b[0;36m  File \u001b[0;32m\"<ipython-input-38-a419d46aba6c>\"\u001b[0;36m, line \u001b[0;32m1\u001b[0m\n\u001b[0;31m    Create Keras Model Architecture - Single Output Node¶\u001b[0m\n\u001b[0m               ^\u001b[0m\n\u001b[0;31mSyntaxError\u001b[0m\u001b[0;31m:\u001b[0m invalid syntax\n"
          ]
        }
      ]
    },
    {
      "cell_type": "markdown",
      "metadata": {
        "id": "GDtM48p0Us_p"
      },
      "source": [
        "\n",
        "**Create Keras Model Architecture - Single Output Node**"
      ]
    },
    {
      "cell_type": "code",
      "metadata": {
        "id": "xBb4VtgBU7w9"
      },
      "source": [
        "from keras.models import Sequential, load_model\n",
        "from keras.layers import Dense\n",
        "from sklearn.metrics import confusion_matrix, precision_score, recall_score, f1_score, cohen_kappa_score, classification_report"
      ],
      "execution_count": 39,
      "outputs": []
    },
    {
      "cell_type": "code",
      "metadata": {
        "colab": {
          "base_uri": "https://localhost:8080/"
        },
        "id": "84lx6acWVDkr",
        "outputId": "f6b9f307-559f-4813-cc06-9a3850d48723"
      },
      "source": [
        "\n",
        "# The input_shape is needed in the input layer to tell Keras how many input features to expect\n",
        "input_shape = X_train_scaled.shape[1]\n",
        "print(input_shape)"
      ],
      "execution_count": 42,
      "outputs": [
        {
          "output_type": "stream",
          "text": [
            "12\n"
          ],
          "name": "stdout"
        }
      ]
    },
    {
      "cell_type": "code",
      "metadata": {
        "id": "b2eBPUh7VM2U"
      },
      "source": [
        "#Create Keras Model\n",
        "model = Sequential()\n",
        "\n",
        "# Add the first layer\n",
        "model.add(Dense(12, activation='relu', input_shape=(input_shape,)))\n",
        "\n",
        "# Add the second layer\n",
        "model.add(Dense(8, activation='relu'))\n",
        "\n",
        "# Add the output layer\n",
        "# activation = sigmoid gives probabilities as predicted outputs\n",
        "model.add(Dense(1,activation='sigmoid'))\n",
        "\n",
        "# compile the model\n",
        "model.compile(optimizer='adam', loss='binary_crossentropy', metrics=['accuracy'])"
      ],
      "execution_count": 43,
      "outputs": []
    },
    {
      "cell_type": "code",
      "metadata": {
        "colab": {
          "base_uri": "https://localhost:8080/"
        },
        "id": "AHO_DCGLVdvC",
        "outputId": "3e3af02a-eb6e-41dc-879b-dbe844a3078b"
      },
      "source": [
        "# fit will perform the backpropagation and gradient descent\n",
        "# fit(X_train, y_train)\n",
        "model.fit(X_train_scaled, y_train, epochs=100, validation_split=0.4, batch_size=64, verbose=0)"
      ],
      "execution_count": 50,
      "outputs": [
        {
          "output_type": "execute_result",
          "data": {
            "text/plain": [
              "<tensorflow.python.keras.callbacks.History at 0x7fdfe9fec550>"
            ]
          },
          "metadata": {
            "tags": []
          },
          "execution_count": 50
        }
      ]
    },
    {
      "cell_type": "code",
      "metadata": {
        "id": "LyrznUJwV0J3"
      },
      "source": [
        "y_pred = model.predict(X_test_scaled)"
      ],
      "execution_count": 51,
      "outputs": []
    },
    {
      "cell_type": "code",
      "metadata": {
        "colab": {
          "base_uri": "https://localhost:8080/"
        },
        "id": "rJ-wnOxuWGBp",
        "outputId": "da31f2da-43f8-41b8-fcf2-3a403afcb51a"
      },
      "source": [
        "y_pred[:5]"
      ],
      "execution_count": 52,
      "outputs": [
        {
          "output_type": "execute_result",
          "data": {
            "text/plain": [
              "array([[4.4128145e-05],\n",
              "       [9.9677050e-01],\n",
              "       [2.3832310e-07],\n",
              "       [1.0000000e+00],\n",
              "       [4.2524934e-04]], dtype=float32)"
            ]
          },
          "metadata": {
            "tags": []
          },
          "execution_count": 52
        }
      ]
    },
    {
      "cell_type": "code",
      "metadata": {
        "colab": {
          "base_uri": "https://localhost:8080/",
          "height": 108
        },
        "id": "sAnqk_c4WJhE",
        "outputId": "101a4df4-2a41-4236-d1f7-200622018e93"
      },
      "source": [
        "# for this, lets assume any probability above 0.5, means Red wine\n",
        "cm = confusion_matrix(y_test, y_pred >= 0.5)\n",
        "df_cm = pd.DataFrame(\n",
        "        cm, index=['white', 'red'], columns=['white', 'red'], \n",
        "    )\n",
        "df_cm.head()"
      ],
      "execution_count": 59,
      "outputs": [
        {
          "output_type": "execute_result",
          "data": {
            "text/html": [
              "<div>\n",
              "<style scoped>\n",
              "    .dataframe tbody tr th:only-of-type {\n",
              "        vertical-align: middle;\n",
              "    }\n",
              "\n",
              "    .dataframe tbody tr th {\n",
              "        vertical-align: top;\n",
              "    }\n",
              "\n",
              "    .dataframe thead th {\n",
              "        text-align: right;\n",
              "    }\n",
              "</style>\n",
              "<table border=\"1\" class=\"dataframe\">\n",
              "  <thead>\n",
              "    <tr style=\"text-align: right;\">\n",
              "      <th></th>\n",
              "      <th>white</th>\n",
              "      <th>red</th>\n",
              "    </tr>\n",
              "  </thead>\n",
              "  <tbody>\n",
              "    <tr>\n",
              "      <th>white</th>\n",
              "      <td>1613</td>\n",
              "      <td>4</td>\n",
              "    </tr>\n",
              "    <tr>\n",
              "      <th>red</th>\n",
              "      <td>5</td>\n",
              "      <td>523</td>\n",
              "    </tr>\n",
              "  </tbody>\n",
              "</table>\n",
              "</div>"
            ],
            "text/plain": [
              "       white  red\n",
              "white   1613    4\n",
              "red        5  523"
            ]
          },
          "metadata": {
            "tags": []
          },
          "execution_count": 59
        }
      ]
    },
    {
      "cell_type": "code",
      "metadata": {
        "colab": {
          "base_uri": "https://localhost:8080/"
        },
        "id": "Ho4FIjDja8BB",
        "outputId": "cd08f357-fa08-4992-88e6-c4f88d4aab5e"
      },
      "source": [
        "score = model.evaluate(X_test_scaled, y_test,verbose=1)\n",
        "print(f'Loss: {score[0]}, Accuracy: {score[1]}')\n"
      ],
      "execution_count": 60,
      "outputs": [
        {
          "output_type": "stream",
          "text": [
            "68/68 [==============================] - 0s 1ms/step - loss: 0.0234 - accuracy: 0.9958\n",
            "Loss: 0.023412249982357025, Accuracy: 0.9958041906356812\n"
          ],
          "name": "stdout"
        }
      ]
    },
    {
      "cell_type": "markdown",
      "metadata": {
        "id": "XHTB-D5Scs-s"
      },
      "source": [
        "**Create Keras Model Architecture - Multiple Output Node**"
      ]
    },
    {
      "cell_type": "markdown",
      "metadata": {
        "id": "7tKZyLY_b9R9"
      },
      "source": [
        "**One-Hot Encode the 'type'**\n"
      ]
    },
    {
      "cell_type": "code",
      "metadata": {
        "colab": {
          "base_uri": "https://localhost:8080/"
        },
        "id": "y4VYYwKtcDHK",
        "outputId": "97dee73e-ed38-464f-99d4-2e3a5c91c304"
      },
      "source": [
        "y_train.head()\n"
      ],
      "execution_count": 62,
      "outputs": [
        {
          "output_type": "execute_result",
          "data": {
            "text/plain": [
              "5025    0\n",
              "2238    0\n",
              "4834    0\n",
              "6143    0\n",
              "2892    0\n",
              "Name: type, dtype: int64"
            ]
          },
          "metadata": {
            "tags": []
          },
          "execution_count": 62
        }
      ]
    },
    {
      "cell_type": "code",
      "metadata": {
        "colab": {
          "base_uri": "https://localhost:8080/"
        },
        "id": "zsPfv5dWcJl4",
        "outputId": "48e02424-b1c7-4954-eb50-10d98adb0d62"
      },
      "source": [
        "from keras.utils import to_categorical\n",
        "\n",
        "# to_categorical will take Series and create a column for each possible value\n",
        "y_train_cat = to_categorical(y_train)\n",
        "y_test_cat = to_categorical(y_test)\n"
      ],
      "execution_count": 64,
      "outputs": [
        {
          "output_type": "execute_result",
          "data": {
            "text/plain": [
              "(4352, 2)"
            ]
          },
          "metadata": {
            "tags": []
          },
          "execution_count": 64
        }
      ]
    },
    {
      "cell_type": "code",
      "metadata": {
        "colab": {
          "base_uri": "https://localhost:8080/",
          "height": 198
        },
        "id": "jBMwxVm_cQ4R",
        "outputId": "516bfce8-4f4d-47d6-ce9c-9206a1eb2e94"
      },
      "source": [
        "pd.DataFrame(y_train_cat).head()"
      ],
      "execution_count": 65,
      "outputs": [
        {
          "output_type": "execute_result",
          "data": {
            "text/html": [
              "<div>\n",
              "<style scoped>\n",
              "    .dataframe tbody tr th:only-of-type {\n",
              "        vertical-align: middle;\n",
              "    }\n",
              "\n",
              "    .dataframe tbody tr th {\n",
              "        vertical-align: top;\n",
              "    }\n",
              "\n",
              "    .dataframe thead th {\n",
              "        text-align: right;\n",
              "    }\n",
              "</style>\n",
              "<table border=\"1\" class=\"dataframe\">\n",
              "  <thead>\n",
              "    <tr style=\"text-align: right;\">\n",
              "      <th></th>\n",
              "      <th>0</th>\n",
              "      <th>1</th>\n",
              "    </tr>\n",
              "  </thead>\n",
              "  <tbody>\n",
              "    <tr>\n",
              "      <th>0</th>\n",
              "      <td>1.0</td>\n",
              "      <td>0.0</td>\n",
              "    </tr>\n",
              "    <tr>\n",
              "      <th>1</th>\n",
              "      <td>1.0</td>\n",
              "      <td>0.0</td>\n",
              "    </tr>\n",
              "    <tr>\n",
              "      <th>2</th>\n",
              "      <td>1.0</td>\n",
              "      <td>0.0</td>\n",
              "    </tr>\n",
              "    <tr>\n",
              "      <th>3</th>\n",
              "      <td>1.0</td>\n",
              "      <td>0.0</td>\n",
              "    </tr>\n",
              "    <tr>\n",
              "      <th>4</th>\n",
              "      <td>1.0</td>\n",
              "      <td>0.0</td>\n",
              "    </tr>\n",
              "  </tbody>\n",
              "</table>\n",
              "</div>"
            ],
            "text/plain": [
              "     0    1\n",
              "0  1.0  0.0\n",
              "1  1.0  0.0\n",
              "2  1.0  0.0\n",
              "3  1.0  0.0\n",
              "4  1.0  0.0"
            ]
          },
          "metadata": {
            "tags": []
          },
          "execution_count": 65
        }
      ]
    },
    {
      "cell_type": "code",
      "metadata": {
        "id": "s69bFYWzcdjs"
      },
      "source": [
        "model = Sequential()\n",
        "\n",
        "# Add the first layer\n",
        "model.add(Dense(12, activation='relu', input_shape=(input_shape,)))\n",
        "\n",
        "# Add the second layer\n",
        "model.add(Dense(8, activation='relu'))\n",
        "\n",
        "# Add the output layer\n",
        "# NOTE - we specify 2 output layer nodes for each of the 0 or 1 outcomes\n",
        "# We also use softmax to provide a probability across the two vales\n",
        "model.add(Dense(2, activation='softmax'))\n",
        "\n",
        "# compile the model\n",
        "model.compile(optimizer='adam', loss='categorical_crossentropy', metrics=['accuracy'])"
      ],
      "execution_count": 70,
      "outputs": []
    },
    {
      "cell_type": "code",
      "metadata": {
        "colab": {
          "base_uri": "https://localhost:8080/"
        },
        "id": "7lq-Vsgtc4lv",
        "outputId": "66b32074-333a-43b8-d2c9-1d1a317ff8c1"
      },
      "source": [
        "# fit will perform the backpropagation and gradient descent\n",
        "# fit(X_train, y_train)\n",
        "model.fit(X_train_scaled, y_train_cat, epochs=100, validation_split=0.4, batch_size=64, verbose=0)"
      ],
      "execution_count": 71,
      "outputs": [
        {
          "output_type": "execute_result",
          "data": {
            "text/plain": [
              "<tensorflow.python.keras.callbacks.History at 0x7fdfe9c6b090>"
            ]
          },
          "metadata": {
            "tags": []
          },
          "execution_count": 71
        }
      ]
    },
    {
      "cell_type": "code",
      "metadata": {
        "colab": {
          "base_uri": "https://localhost:8080/"
        },
        "id": "uMJlpXardCE0",
        "outputId": "f7cb7f2b-4f15-4122-9e0f-7a693ca615ae"
      },
      "source": [
        "score = model.evaluate(X_test_scaled, y_test_cat,verbose=1)\n",
        "print(f'Loss: {score[0]}, Accuracy: {score[1]}')"
      ],
      "execution_count": 72,
      "outputs": [
        {
          "output_type": "stream",
          "text": [
            "68/68 [==============================] - 0s 1ms/step - loss: 0.0166 - accuracy: 0.9972\n",
            "Loss: 0.016631925478577614, Accuracy: 0.9972028136253357\n"
          ],
          "name": "stdout"
        }
      ]
    },
    {
      "cell_type": "markdown",
      "metadata": {
        "id": "r1jlGY9ZdX_S"
      },
      "source": [
        "**Making predictions on multiple output node layer**"
      ]
    },
    {
      "cell_type": "code",
      "metadata": {
        "id": "abydGPu6dTrr"
      },
      "source": [
        "y_pred_proba = model.predict(X_test_scaled)"
      ],
      "execution_count": 73,
      "outputs": []
    },
    {
      "cell_type": "code",
      "metadata": {
        "colab": {
          "base_uri": "https://localhost:8080/"
        },
        "id": "Kbwp5zg3ddhY",
        "outputId": "6a598e89-b241-4459-9d70-522c79a94d28"
      },
      "source": [
        "y_pred_proba[:,1]\n"
      ],
      "execution_count": 76,
      "outputs": [
        {
          "output_type": "execute_result",
          "data": {
            "text/plain": [
              "array([1.67664723e-04, 9.98912811e-01, 2.83258036e-04, ...,\n",
              "       9.99992371e-01, 1.03543965e-08, 3.04368295e-04], dtype=float32)"
            ]
          },
          "metadata": {
            "tags": []
          },
          "execution_count": 76
        }
      ]
    },
    {
      "cell_type": "code",
      "metadata": {
        "colab": {
          "base_uri": "https://localhost:8080/"
        },
        "id": "Nu_jVvRtdrGS",
        "outputId": "a24dc19d-d8c1-430b-86ad-2876feabd22b"
      },
      "source": [
        "y_pred = y_pred_proba[:, 1] > 0.5\n",
        "y_pred"
      ],
      "execution_count": 85,
      "outputs": [
        {
          "output_type": "execute_result",
          "data": {
            "text/plain": [
              "array([False,  True, False, ...,  True, False, False])"
            ]
          },
          "metadata": {
            "tags": []
          },
          "execution_count": 85
        }
      ]
    },
    {
      "cell_type": "code",
      "metadata": {
        "id": "wB8XsKvVd6yn"
      },
      "source": [
        "from sklearn.metrics import confusion_matrix, precision_score, recall_score, f1_score, cohen_kappa_score, classification_report, accuracy_score\n"
      ],
      "execution_count": 86,
      "outputs": []
    },
    {
      "cell_type": "code",
      "metadata": {
        "colab": {
          "base_uri": "https://localhost:8080/",
          "height": 108
        },
        "id": "8Ds-rDjXd_zs",
        "outputId": "2664e2aa-ad5c-40a4-c190-21ec48e16547"
      },
      "source": [
        "cm = confusion_matrix(y_test, y_pred)\n",
        "# for this, lets assume any probability above 0.5, means Red wine\n",
        "cm = confusion_matrix(y_test, y_pred >= 0.5)\n",
        "df_cm = pd.DataFrame(\n",
        "        cm, index=['white', 'red'], columns=['white', 'red'], \n",
        "    )\n",
        "df_cm.head()"
      ],
      "execution_count": 87,
      "outputs": [
        {
          "output_type": "execute_result",
          "data": {
            "text/html": [
              "<div>\n",
              "<style scoped>\n",
              "    .dataframe tbody tr th:only-of-type {\n",
              "        vertical-align: middle;\n",
              "    }\n",
              "\n",
              "    .dataframe tbody tr th {\n",
              "        vertical-align: top;\n",
              "    }\n",
              "\n",
              "    .dataframe thead th {\n",
              "        text-align: right;\n",
              "    }\n",
              "</style>\n",
              "<table border=\"1\" class=\"dataframe\">\n",
              "  <thead>\n",
              "    <tr style=\"text-align: right;\">\n",
              "      <th></th>\n",
              "      <th>white</th>\n",
              "      <th>red</th>\n",
              "    </tr>\n",
              "  </thead>\n",
              "  <tbody>\n",
              "    <tr>\n",
              "      <th>white</th>\n",
              "      <td>1615</td>\n",
              "      <td>2</td>\n",
              "    </tr>\n",
              "    <tr>\n",
              "      <th>red</th>\n",
              "      <td>4</td>\n",
              "      <td>524</td>\n",
              "    </tr>\n",
              "  </tbody>\n",
              "</table>\n",
              "</div>"
            ],
            "text/plain": [
              "       white  red\n",
              "white   1615    2\n",
              "red        4  524"
            ]
          },
          "metadata": {
            "tags": []
          },
          "execution_count": 87
        }
      ]
    },
    {
      "cell_type": "code",
      "metadata": {
        "colab": {
          "base_uri": "https://localhost:8080/"
        },
        "id": "83XJyyVzeGde",
        "outputId": "51c11862-9a25-4ee9-daa7-779810e8917b"
      },
      "source": [
        "precision_score(y_test, y_pred)"
      ],
      "execution_count": 88,
      "outputs": [
        {
          "output_type": "execute_result",
          "data": {
            "text/plain": [
              "0.9961977186311787"
            ]
          },
          "metadata": {
            "tags": []
          },
          "execution_count": 88
        }
      ]
    },
    {
      "cell_type": "code",
      "metadata": {
        "colab": {
          "base_uri": "https://localhost:8080/"
        },
        "id": "o9EhWJcSehDD",
        "outputId": "8c730092-ed54-478f-d708-65db76d04ac3"
      },
      "source": [
        "recall_score(y_test, y_pred)"
      ],
      "execution_count": 89,
      "outputs": [
        {
          "output_type": "execute_result",
          "data": {
            "text/plain": [
              "0.9924242424242424"
            ]
          },
          "metadata": {
            "tags": []
          },
          "execution_count": 89
        }
      ]
    },
    {
      "cell_type": "code",
      "metadata": {
        "colab": {
          "base_uri": "https://localhost:8080/"
        },
        "id": "LuBSYNz8el3S",
        "outputId": "38c82832-b366-4502-c473-9617ec984952"
      },
      "source": [
        "f1_score(y_test,y_pred)\n"
      ],
      "execution_count": 90,
      "outputs": [
        {
          "output_type": "execute_result",
          "data": {
            "text/plain": [
              "0.9943074003795065"
            ]
          },
          "metadata": {
            "tags": []
          },
          "execution_count": 90
        }
      ]
    },
    {
      "cell_type": "code",
      "metadata": {
        "colab": {
          "base_uri": "https://localhost:8080/"
        },
        "id": "vSA7PGX4eoaG",
        "outputId": "ec85d4e5-bed1-4880-c881-3adab9cbb18c"
      },
      "source": [
        "cohen_kappa_score(y_test, y_pred)\n"
      ],
      "execution_count": 91,
      "outputs": [
        {
          "output_type": "execute_result",
          "data": {
            "text/plain": [
              "0.9924532683153373"
            ]
          },
          "metadata": {
            "tags": []
          },
          "execution_count": 91
        }
      ]
    },
    {
      "cell_type": "code",
      "metadata": {
        "colab": {
          "base_uri": "https://localhost:8080/"
        },
        "id": "nnx8R63Keq-Z",
        "outputId": "dbe9355e-5743-458b-f166-9d724b963ae0"
      },
      "source": [
        "print(classification_report(y_test, y_pred))"
      ],
      "execution_count": 92,
      "outputs": [
        {
          "output_type": "stream",
          "text": [
            "              precision    recall  f1-score   support\n",
            "\n",
            "           0       1.00      1.00      1.00      1617\n",
            "           1       1.00      0.99      0.99       528\n",
            "\n",
            "    accuracy                           1.00      2145\n",
            "   macro avg       1.00      1.00      1.00      2145\n",
            "weighted avg       1.00      1.00      1.00      2145\n",
            "\n"
          ],
          "name": "stdout"
        }
      ]
    },
    {
      "cell_type": "markdown",
      "metadata": {
        "id": "QcWRmdfofGOu"
      },
      "source": [
        "**Create Model to predict Wine Quality - Regression**\n"
      ]
    },
    {
      "cell_type": "code",
      "metadata": {
        "colab": {
          "base_uri": "https://localhost:8080/",
          "height": 198
        },
        "id": "7T6H-YLOf60h",
        "outputId": "ec34f6e3-fed9-4753-bc8e-01b9f846d240"
      },
      "source": [
        "df.head()"
      ],
      "execution_count": 93,
      "outputs": [
        {
          "output_type": "execute_result",
          "data": {
            "text/html": [
              "<div>\n",
              "<style scoped>\n",
              "    .dataframe tbody tr th:only-of-type {\n",
              "        vertical-align: middle;\n",
              "    }\n",
              "\n",
              "    .dataframe tbody tr th {\n",
              "        vertical-align: top;\n",
              "    }\n",
              "\n",
              "    .dataframe thead th {\n",
              "        text-align: right;\n",
              "    }\n",
              "</style>\n",
              "<table border=\"1\" class=\"dataframe\">\n",
              "  <thead>\n",
              "    <tr style=\"text-align: right;\">\n",
              "      <th></th>\n",
              "      <th>fixed acidity</th>\n",
              "      <th>volatile acidity</th>\n",
              "      <th>citric acid</th>\n",
              "      <th>residual sugar</th>\n",
              "      <th>chlorides</th>\n",
              "      <th>free sulfur dioxide</th>\n",
              "      <th>total sulfur dioxide</th>\n",
              "      <th>density</th>\n",
              "      <th>pH</th>\n",
              "      <th>sulphates</th>\n",
              "      <th>alcohol</th>\n",
              "      <th>quality</th>\n",
              "      <th>type</th>\n",
              "    </tr>\n",
              "  </thead>\n",
              "  <tbody>\n",
              "    <tr>\n",
              "      <th>0</th>\n",
              "      <td>7.4</td>\n",
              "      <td>0.70</td>\n",
              "      <td>0.00</td>\n",
              "      <td>1.9</td>\n",
              "      <td>0.076</td>\n",
              "      <td>11.0</td>\n",
              "      <td>34.0</td>\n",
              "      <td>0.9978</td>\n",
              "      <td>3.51</td>\n",
              "      <td>0.56</td>\n",
              "      <td>9.4</td>\n",
              "      <td>5</td>\n",
              "      <td>1</td>\n",
              "    </tr>\n",
              "    <tr>\n",
              "      <th>1</th>\n",
              "      <td>7.8</td>\n",
              "      <td>0.88</td>\n",
              "      <td>0.00</td>\n",
              "      <td>2.6</td>\n",
              "      <td>0.098</td>\n",
              "      <td>25.0</td>\n",
              "      <td>67.0</td>\n",
              "      <td>0.9968</td>\n",
              "      <td>3.20</td>\n",
              "      <td>0.68</td>\n",
              "      <td>9.8</td>\n",
              "      <td>5</td>\n",
              "      <td>1</td>\n",
              "    </tr>\n",
              "    <tr>\n",
              "      <th>2</th>\n",
              "      <td>7.8</td>\n",
              "      <td>0.76</td>\n",
              "      <td>0.04</td>\n",
              "      <td>2.3</td>\n",
              "      <td>0.092</td>\n",
              "      <td>15.0</td>\n",
              "      <td>54.0</td>\n",
              "      <td>0.9970</td>\n",
              "      <td>3.26</td>\n",
              "      <td>0.65</td>\n",
              "      <td>9.8</td>\n",
              "      <td>5</td>\n",
              "      <td>1</td>\n",
              "    </tr>\n",
              "    <tr>\n",
              "      <th>3</th>\n",
              "      <td>11.2</td>\n",
              "      <td>0.28</td>\n",
              "      <td>0.56</td>\n",
              "      <td>1.9</td>\n",
              "      <td>0.075</td>\n",
              "      <td>17.0</td>\n",
              "      <td>60.0</td>\n",
              "      <td>0.9980</td>\n",
              "      <td>3.16</td>\n",
              "      <td>0.58</td>\n",
              "      <td>9.8</td>\n",
              "      <td>6</td>\n",
              "      <td>1</td>\n",
              "    </tr>\n",
              "    <tr>\n",
              "      <th>4</th>\n",
              "      <td>7.4</td>\n",
              "      <td>0.70</td>\n",
              "      <td>0.00</td>\n",
              "      <td>1.9</td>\n",
              "      <td>0.076</td>\n",
              "      <td>11.0</td>\n",
              "      <td>34.0</td>\n",
              "      <td>0.9978</td>\n",
              "      <td>3.51</td>\n",
              "      <td>0.56</td>\n",
              "      <td>9.4</td>\n",
              "      <td>5</td>\n",
              "      <td>1</td>\n",
              "    </tr>\n",
              "  </tbody>\n",
              "</table>\n",
              "</div>"
            ],
            "text/plain": [
              "   fixed acidity  volatile acidity  citric acid  ...  alcohol  quality  type\n",
              "0            7.4              0.70         0.00  ...      9.4        5     1\n",
              "1            7.8              0.88         0.00  ...      9.8        5     1\n",
              "2            7.8              0.76         0.04  ...      9.8        5     1\n",
              "3           11.2              0.28         0.56  ...      9.8        6     1\n",
              "4            7.4              0.70         0.00  ...      9.4        5     1\n",
              "\n",
              "[5 rows x 13 columns]"
            ]
          },
          "metadata": {
            "tags": []
          },
          "execution_count": 93
        }
      ]
    },
    {
      "cell_type": "code",
      "metadata": {
        "colab": {
          "base_uri": "https://localhost:8080/"
        },
        "id": "pV43xEvmf7Rh",
        "outputId": "a6324da5-d010-4c41-ed3f-a2bba3558400"
      },
      "source": [
        "df['quality'].unique()"
      ],
      "execution_count": 94,
      "outputs": [
        {
          "output_type": "execute_result",
          "data": {
            "text/plain": [
              "array([5, 6, 7, 4, 8, 3, 9])"
            ]
          },
          "metadata": {
            "tags": []
          },
          "execution_count": 94
        }
      ]
    },
    {
      "cell_type": "code",
      "metadata": {
        "id": "8F-eXstzf_eE"
      },
      "source": [
        "X = df.drop(columns=['quality'])\n",
        "y = df['quality']"
      ],
      "execution_count": 95,
      "outputs": []
    },
    {
      "cell_type": "code",
      "metadata": {
        "colab": {
          "base_uri": "https://localhost:8080/"
        },
        "id": "pgIEdOL_gREW",
        "outputId": "224d31c1-b8e5-425d-c5cf-128d657f7206"
      },
      "source": [
        "imput_dim = X.shape[1]  # get the number of columns/features in X\n",
        "imput_dim"
      ],
      "execution_count": 97,
      "outputs": [
        {
          "output_type": "execute_result",
          "data": {
            "text/plain": [
              "12"
            ]
          },
          "metadata": {
            "tags": []
          },
          "execution_count": 97
        }
      ]
    },
    {
      "cell_type": "markdown",
      "metadata": {
        "id": "sDfdSuIVhLHP"
      },
      "source": [
        "**Create the hold-out set with train_test_split¶**"
      ]
    },
    {
      "cell_type": "code",
      "metadata": {
        "id": "H5uzT0imghdV"
      },
      "source": [
        "X_train,X_test,y_train, y_test = train_test_split(X,y,test_size=0.3, random_state=42, stratify=y)"
      ],
      "execution_count": 98,
      "outputs": []
    },
    {
      "cell_type": "code",
      "metadata": {
        "id": "MHD0zFAmhY33"
      },
      "source": [
        "import numpy\n",
        "import pandas\n",
        "from keras.models import Sequential\n",
        "from keras.layers import Dense\n",
        "from keras.wrappers.scikit_learn import KerasRegressor\n",
        "from sklearn.model_selection import cross_val_score\n",
        "from sklearn.preprocessing import LabelEncoder\n",
        "from sklearn.model_selection import StratifiedKFold\n",
        "from sklearn.preprocessing import StandardScaler\n",
        "from sklearn.pipeline import Pipeline"
      ],
      "execution_count": 99,
      "outputs": []
    },
    {
      "cell_type": "code",
      "metadata": {
        "id": "KLFc1-kchnDu"
      },
      "source": [
        "scaler = StandardScaler()"
      ],
      "execution_count": 100,
      "outputs": []
    },
    {
      "cell_type": "code",
      "metadata": {
        "id": "u7HSeEHIhvmf"
      },
      "source": [
        "scaler.fit(X_train)\n",
        "X_train_scaled = scaler.transform(X_train)\n",
        "X_test_scaled = scaler.transform(X_test)"
      ],
      "execution_count": 104,
      "outputs": []
    },
    {
      "cell_type": "markdown",
      "metadata": {
        "id": "4qTEi65rixh-"
      },
      "source": [
        "**Create a Keras Model as a Scikit-Learn Estimator**"
      ]
    },
    {
      "cell_type": "code",
      "metadata": {
        "id": "C35WC3SWhxhw"
      },
      "source": [
        "from keras.wrappers.scikit_learn import KerasClassifier"
      ],
      "execution_count": 105,
      "outputs": []
    },
    {
      "cell_type": "code",
      "metadata": {
        "id": "7VDyNY7Qhzmh"
      },
      "source": [
        "def create_keras_wine_quality_model():\n",
        "    # Initialize the model\n",
        "    model = Sequential()\n",
        "\n",
        "    # Add input layer \n",
        "    model.add(Dense(64, input_dim=imput_dim, activation='relu'))\n",
        "\n",
        "    # Add output layer \n",
        "    model.add(Dense(1))\n",
        "    \n",
        "    model.compile(optimizer='rmsprop', loss='mean_squared_error', metrics=['mae'])\n",
        "    \n",
        "    return model"
      ],
      "execution_count": 106,
      "outputs": []
    },
    {
      "cell_type": "code",
      "metadata": {
        "id": "m15IngOZjcnL"
      },
      "source": [
        "# Create a KerasRegressor that has a compatible API for Scikit-Learn estimator\n",
        "estimator = KerasRegressor(build_fn=create_keras_wine_quality_model, epochs=100, batch_size=5, verbose=0)"
      ],
      "execution_count": 107,
      "outputs": []
    },
    {
      "cell_type": "code",
      "metadata": {
        "id": "VhkEK-6kjyCN"
      },
      "source": [
        "kfold = StratifiedKFold(n_splits=3, shuffle=True, random_state=43)"
      ],
      "execution_count": 109,
      "outputs": []
    },
    {
      "cell_type": "code",
      "metadata": {
        "id": "P_XZI2wtj7ax"
      },
      "source": [
        "results = cross_val_score(estimator, X_train_scaled, y_train, cv=kfold)"
      ],
      "execution_count": 110,
      "outputs": []
    },
    {
      "cell_type": "code",
      "metadata": {
        "colab": {
          "base_uri": "https://localhost:8080/"
        },
        "id": "r9d6T5hrkT__",
        "outputId": "6176368e-547d-46d0-fcdf-f0f1b46d354c"
      },
      "source": [
        "# The results are the mean_absolute_error which represent the number of 'units' off the measurements are\n",
        "# https://github.com/scikit-learn/scikit-learn/issues/2439\n",
        "# there is a super long debate about why Scikit learn cross_val_score returns negative mean absolute error values\n",
        "# for now.. you can just flip the sign\n",
        "results\n"
      ],
      "execution_count": 112,
      "outputs": [
        {
          "output_type": "execute_result",
          "data": {
            "text/plain": [
              "array([-0.50535077, -0.46893468, -0.52781159])"
            ]
          },
          "metadata": {
            "tags": []
          },
          "execution_count": 112
        }
      ]
    },
    {
      "cell_type": "code",
      "metadata": {
        "colab": {
          "base_uri": "https://localhost:8080/"
        },
        "id": "bY6xT8EykzAH",
        "outputId": "f35f2b0a-6b30-43da-95e9-ba09da224904"
      },
      "source": [
        "print(\"Results: %.2f MSE (%.2f) STD\" % (results.mean(), results.std()))"
      ],
      "execution_count": 111,
      "outputs": [
        {
          "output_type": "stream",
          "text": [
            "Results: -0.50 MSE (0.02) STD\n"
          ],
          "name": "stdout"
        }
      ]
    },
    {
      "cell_type": "markdown",
      "metadata": {
        "id": "88mRWXQCk-Nf"
      },
      "source": [
        "**Create a model and fit it to the training data¶**"
      ]
    },
    {
      "cell_type": "code",
      "metadata": {
        "colab": {
          "base_uri": "https://localhost:8080/"
        },
        "id": "ZqyX4KUfk18Z",
        "outputId": "a6b5bd31-7e3d-44fd-b143-2550bbeaa0a1"
      },
      "source": [
        "model = create_keras_wine_quality_model()\n",
        "model.fit(X_train_scaled, y_train, epochs=100, validation_split=0.4, batch_size=64, verbose=0)"
      ],
      "execution_count": 113,
      "outputs": [
        {
          "output_type": "execute_result",
          "data": {
            "text/plain": [
              "<tensorflow.python.keras.callbacks.History at 0x7fdfe35f5250>"
            ]
          },
          "metadata": {
            "tags": []
          },
          "execution_count": 113
        }
      ]
    },
    {
      "cell_type": "markdown",
      "metadata": {
        "id": "tY0FEj7ilWCP"
      },
      "source": [
        "**Evaluate the model on the hold-out test set**"
      ]
    },
    {
      "cell_type": "code",
      "metadata": {
        "id": "zqPsdnd0lRz8"
      },
      "source": [
        "mse_value, mae_value = model.evaluate(X_test_scaled, y_test, verbose=0)"
      ],
      "execution_count": 114,
      "outputs": []
    },
    {
      "cell_type": "code",
      "metadata": {
        "colab": {
          "base_uri": "https://localhost:8080/"
        },
        "id": "lFLyw0hdlg9q",
        "outputId": "b37b60b4-5bda-4684-d7c9-9d4ffa696c8b"
      },
      "source": [
        "print(mse_value, mae_value)"
      ],
      "execution_count": 115,
      "outputs": [
        {
          "output_type": "stream",
          "text": [
            "0.5043332576751709 0.5531765222549438\n"
          ],
          "name": "stdout"
        }
      ]
    },
    {
      "cell_type": "markdown",
      "metadata": {
        "id": "PUGofWkwloPC"
      },
      "source": [
        "You can see the hold-out has similar mean absolute error as the training data.\n",
        "\n"
      ]
    },
    {
      "cell_type": "code",
      "metadata": {
        "colab": {
          "base_uri": "https://localhost:8080/"
        },
        "id": "hdFqZINqljJR",
        "outputId": "90a328a3-f35f-47b9-86f5-1b5a7f6fec88"
      },
      "source": [
        "from sklearn.metrics import r2_score\n",
        "y_pred = model.predict(X_test_scaled)\n",
        "r2_score(y_test, y_pred)"
      ],
      "execution_count": 116,
      "outputs": [
        {
          "output_type": "execute_result",
          "data": {
            "text/plain": [
              "0.3368542521283785"
            ]
          },
          "metadata": {
            "tags": []
          },
          "execution_count": 116
        }
      ]
    },
    {
      "cell_type": "markdown",
      "metadata": {
        "id": "vevE7OQgmHZl"
      },
      "source": [
        "The R^2 score is also not very good. R^2 score of 1 is the best, and the score can go negative.\n",
        "\n",
        "Therefore a score of 0.33 is not a very good score"
      ]
    },
    {
      "cell_type": "code",
      "metadata": {
        "id": "9mRDG0VAltEW"
      },
      "source": [
        "The R^2 score is also not very good. R^2 score of 1 is the best, and the score can go negative.\n",
        "\n",
        "Therefore a score of 0.33 is not a very good score"
      ],
      "execution_count": null,
      "outputs": []
    },
    {
      "cell_type": "markdown",
      "metadata": {
        "id": "ofyfIWJJnD4m"
      },
      "source": [
        "**Create a Scikit-Learn Model Sandbox¶**"
      ]
    },
    {
      "cell_type": "code",
      "metadata": {
        "id": "6tXO9ps3nDjl"
      },
      "source": [
        "from keras.optimizers import SGD, RMSprop\n",
        "\n",
        "def create_keras_wine_quality_deep_model():\n",
        "    # Initialize the model\n",
        "    model = Sequential()\n",
        "\n",
        "    # Add input layer \n",
        "    model.add(Dense(128, input_dim=imput_dim, activation='relu'))\n",
        "\n",
        "    # Add input layer \n",
        "    model.add(Dense(64, activation='relu'))\n",
        "\n",
        "    # Add output layer \n",
        "    model.add(Dense(1))\n",
        "    \n",
        "    # rmsprop\n",
        "    # RMSprop(lr=0.001)\n",
        "    # SGD(lr=0.1)\n",
        "    model.compile(optimizer=SGD(lr=0.001), loss='mean_squared_error', metrics=['mae'])\n",
        "    \n",
        "    return model"
      ],
      "execution_count": 117,
      "outputs": []
    },
    {
      "cell_type": "code",
      "metadata": {
        "colab": {
          "base_uri": "https://localhost:8080/"
        },
        "id": "lGgJDIpwnPGS",
        "outputId": "66ea9c6d-5b9b-4553-ab26-bdb237044e2f"
      },
      "source": [
        "model = create_keras_wine_quality_deep_model()\n",
        "model.fit(X_train_scaled, y_train, epochs=100, validation_split=0.4, batch_size=64, verbose=0)"
      ],
      "execution_count": 118,
      "outputs": [
        {
          "output_type": "execute_result",
          "data": {
            "text/plain": [
              "<tensorflow.python.keras.callbacks.History at 0x7fdfe9fdcd50>"
            ]
          },
          "metadata": {
            "tags": []
          },
          "execution_count": 118
        }
      ]
    },
    {
      "cell_type": "code",
      "metadata": {
        "colab": {
          "base_uri": "https://localhost:8080/"
        },
        "id": "gDgwoWqHnUAA",
        "outputId": "9a683d8b-c1bf-4834-a853-c247ede01dd9"
      },
      "source": [
        "se_value, mae_value = model.evaluate(X_test_scaled, y_test, verbose=0)\n",
        "print(mse_value, mae_value)\n",
        "y_pred = model.predict(X_test_scaled)\n",
        "print(r2_score(y_test, y_pred))"
      ],
      "execution_count": 119,
      "outputs": [
        {
          "output_type": "stream",
          "text": [
            "0.5043332576751709 0.5770038962364197\n",
            "0.27338636349341716\n"
          ],
          "name": "stdout"
        }
      ]
    },
    {
      "cell_type": "markdown",
      "metadata": {
        "id": "FvAMqAtVoQ1c"
      },
      "source": [
        "**Create model to predict Wine Quality - Classification¶**"
      ]
    },
    {
      "cell_type": "code",
      "metadata": {
        "id": "atNjuWzZnoCz"
      },
      "source": [
        "import pandas as pd\n",
        "from sklearn.model_selection import train_test_split\n",
        "from sklearn.preprocessing import StandardScaler\n",
        "from keras.utils import to_categorical\n",
        "from sklearn.metrics import confusion_matrix, precision_score, recall_score, f1_score, cohen_kappa_score, classification_report, accuracy_score\n",
        "from keras.models import Sequential\n",
        "from keras.layers import Dense\n",
        "\n",
        "df_red = pd.read_csv('/content/winequality-red.csv', sep=';')\n",
        "df_white = pd.read_csv('/content/winequality-white.csv', sep=';')\n",
        "\n",
        "df_red['type'] = 1\n",
        "df_white['type'] = 0\n",
        "\n",
        "df = pd.concat([df_red, df_white], ignore_index=True)\n",
        "\n",
        "X = df.drop(columns=['quality'])\n",
        "y = df['quality']"
      ],
      "execution_count": 121,
      "outputs": []
    },
    {
      "cell_type": "code",
      "metadata": {
        "colab": {
          "base_uri": "https://localhost:8080/"
        },
        "id": "Lo3HzA00okYN",
        "outputId": "767de493-d33f-4486-bdf3-a7ee20a3b6c8"
      },
      "source": [
        "print(y.unique())\n"
      ],
      "execution_count": 142,
      "outputs": [
        {
          "output_type": "stream",
          "text": [
            "[5 6 7 4 8 3 9]\n"
          ],
          "name": "stdout"
        }
      ]
    },
    {
      "cell_type": "code",
      "metadata": {
        "id": "ZnyF-w5Po1D8"
      },
      "source": [
        "# lets assume that wine quality with a value of 7 or greater is considered good wine.  With a target value of 1\n",
        "y = y >= 7"
      ],
      "execution_count": 143,
      "outputs": []
    },
    {
      "cell_type": "code",
      "metadata": {
        "id": "mE4SSuvkrCSQ"
      },
      "source": [
        "#spliting\n",
        "X_train, X_test, y_train, y_test = train_test_split(X, y, test_size=0.33, random_state=42, stratify=y)\n",
        "\n",
        "scaler = StandardScaler()\n",
        "scaler.fit(X_train)\n",
        "X_train_scaled = scaler.transform(X_train)\n",
        "X_test_scaled = scaler.transform(X_test)\n",
        "input_shape = X_train.shape[1]\n",
        "\n",
        "y_train_cat = to_categorical(y_train)\n",
        "y_test_cat = to_categorical(y_test)\n"
      ],
      "execution_count": 146,
      "outputs": []
    },
    {
      "cell_type": "code",
      "metadata": {
        "colab": {
          "base_uri": "https://localhost:8080/"
        },
        "id": "r73Gp9zwrHaa",
        "outputId": "61c29ac7-a8ba-48a8-c985-2564ed92e7cf"
      },
      "source": [
        "model = Sequential()\n",
        "\n",
        "# Add the first layer\n",
        "model.add(Dense(128, activation='relu', input_shape=(input_shape,)))\n",
        "\n",
        "# Add the second layer\n",
        "model.add(Dense(64, activation='relu'))\n",
        "\n",
        "# Add the output layer\n",
        "# NOTE - we specify 2 output layer nodes for each of the 0 or 1 outcomes\n",
        "# We also use softmax to provide a probability across the two vales\n",
        "model.add(Dense(2, activation='softmax'))\n",
        "\n",
        "# compile the model\n",
        "model.compile(optimizer='adam', loss='categorical_crossentropy', metrics=['accuracy'])\n",
        "\n",
        "model.fit(X_train_scaled, y_train_cat, epochs=1000, validation_split=0.4, batch_size=64, verbose=0)\n"
      ],
      "execution_count": 147,
      "outputs": [
        {
          "output_type": "execute_result",
          "data": {
            "text/plain": [
              "<tensorflow.python.keras.callbacks.History at 0x7fdfe99c9b10>"
            ]
          },
          "metadata": {
            "tags": []
          },
          "execution_count": 147
        }
      ]
    },
    {
      "cell_type": "code",
      "metadata": {
        "colab": {
          "base_uri": "https://localhost:8080/"
        },
        "id": "rV7LIz6Rrnd0",
        "outputId": "33b14e80-79e2-4974-db50-6f6b387a3999"
      },
      "source": [
        "y_pred = y_pred_proba[:, 1] > 0.5\n",
        "\n",
        "cm = confusion_matrix(y_test, y_pred)\n",
        "# for this, lets assume any probability above 0.5, means Red wine\n",
        "cm = confusion_matrix(y_test, y_pred >= 0.5)\n",
        "df_cm = pd.DataFrame(\n",
        "        cm, index=['Bad', 'Good'], columns=['Bad', 'Good'], \n",
        "    )\n",
        "print(df_cm.head())\n",
        "\n",
        "print(f'Accuracy: {accuracy_score(y_test, y_pred)}')"
      ],
      "execution_count": 160,
      "outputs": [
        {
          "output_type": "stream",
          "text": [
            "       Bad  Good\n",
            "Bad   1313   410\n",
            "Good   306   116\n",
            "Accuracy: 0.6662004662004662\n"
          ],
          "name": "stdout"
        }
      ]
    },
    {
      "cell_type": "markdown",
      "metadata": {
        "id": "PkJoTNn3tVOe"
      },
      "source": [
        "**Create Scikit-Learn MLP Model to predict Wine Quality¶**"
      ]
    },
    {
      "cell_type": "code",
      "metadata": {
        "colab": {
          "base_uri": "https://localhost:8080/"
        },
        "id": "_FXEdohZsK6c",
        "outputId": "221c016d-54ba-4474-beb3-750af3e22dc3"
      },
      "source": [
        "from sklearn.neural_network import MLPClassifier\n",
        "import pandas as pd\n",
        "from sklearn.model_selection import train_test_split\n",
        "from sklearn.preprocessing import StandardScaler\n",
        "from keras.utils import to_categorical\n",
        "from sklearn.metrics import confusion_matrix, precision_score, recall_score, f1_score, cohen_kappa_score, classification_report, accuracy_score\n",
        "\n",
        "\n",
        "df_red = pd.read_csv('/content/winequality-red.csv', sep=';')\n",
        "df_white = pd.read_csv('/content/winequality-white.csv', sep=';')\n",
        "\n",
        "df_red['type'] = 1\n",
        "df_white['type'] = 0\n",
        "\n",
        "df = pd.concat([df_red, df_white], ignore_index=True)\n",
        "\n",
        "X = df.drop(columns=['quality'])\n",
        "y = df['quality']\n",
        "\n",
        "# lets assume that wine quality with a value of 7 or greater is considered good wine.  With a target value of 1\n",
        "y = y >= 7\n",
        "\n",
        "X_train, X_test, y_train, y_test = train_test_split(X, y, test_size=0.33, random_state=42, stratify=y)\n",
        "\n",
        "scaler = StandardScaler()\n",
        "scaler.fit(X_train)\n",
        "X_train_scaled = scaler.transform(X_train)\n",
        "X_test_scaled = scaler.transform(X_test)\n",
        "input_shape = X_train.shape[1]\n",
        "\n",
        "y_train_cat = to_categorical(y_train)\n",
        "y_test_cat = to_categorical(y_test)\n",
        "\n",
        "# create a Input ->128 Node Hidden Layer -> 64 Node Hidden Layer -> Output\n",
        "# equivalent Keras:  128, 64 = 0.851 accuracy\n",
        "# 128, 64, 16 = 0.862 accuracy\n",
        "# 128, 64, 16, 8 = 0.863 accuracy\n",
        "model = MLPClassifier(solver='adam', alpha=1e-5, max_iter=1000,\n",
        "                    hidden_layer_sizes=(128, 64, 16, 8), random_state=1)\n",
        "print(model)\n",
        "\n",
        "model.fit(X_train_scaled, y_train_cat)\n",
        "\n",
        "y_pred_proba = model.predict(X_test_scaled)\n",
        "\n",
        "y_pred = y_pred_proba[:, 1]\n",
        "\n",
        "cm = confusion_matrix(y_test, y_pred)\n",
        "# for this, lets assume any probability above 0.5, means Red wine\n",
        "cm = confusion_matrix(y_test, y_pred >= 0.5)\n",
        "df_cm = pd.DataFrame(\n",
        "        cm, index=['Bad', 'Good'], columns=['Bad', 'Good'], \n",
        "    )\n",
        "print(df_cm.head())\n",
        "\n",
        "print(f'Accuracy: {accuracy_score(y_test, y_pred)}')"
      ],
      "execution_count": 162,
      "outputs": [
        {
          "output_type": "stream",
          "text": [
            "MLPClassifier(activation='relu', alpha=1e-05, batch_size='auto', beta_1=0.9,\n",
            "              beta_2=0.999, early_stopping=False, epsilon=1e-08,\n",
            "              hidden_layer_sizes=(128, 64, 16, 8), learning_rate='constant',\n",
            "              learning_rate_init=0.001, max_fun=15000, max_iter=1000,\n",
            "              momentum=0.9, n_iter_no_change=10, nesterovs_momentum=True,\n",
            "              power_t=0.5, random_state=1, shuffle=True, solver='adam',\n",
            "              tol=0.0001, validation_fraction=0.1, verbose=False,\n",
            "              warm_start=False)\n",
            "       Bad  Good\n",
            "Bad   1610   113\n",
            "Good   181   241\n",
            "Accuracy: 0.862937062937063\n"
          ],
          "name": "stdout"
        }
      ]
    },
    {
      "cell_type": "code",
      "metadata": {
        "id": "yrAyLHrWuzwj"
      },
      "source": [
        ""
      ],
      "execution_count": null,
      "outputs": []
    }
  ]
}